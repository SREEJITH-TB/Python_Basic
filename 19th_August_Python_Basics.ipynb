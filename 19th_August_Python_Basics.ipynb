{
 "cells": [
  {
   "cell_type": "code",
   "execution_count": 35,
   "id": "d0164cb6-10b4-45ca-8ff0-ee7b92ea224f",
   "metadata": {},
   "outputs": [
    {
     "name": "stdout",
     "output_type": "stream",
     "text": [
      "x = 10\n",
      "y = 5\n"
     ]
    }
   ],
   "source": [
    "# Assignment\n",
    "# TOPIC: Python Basics Variable\n",
    "# Question\n",
    "'''1. Declare two variables, `x` and `y`, and assign them integer values. Swap the \n",
    "values of these variables without using any temporary variable.'''\n",
    "\n",
    "#Answer\n",
    "\n",
    "# Declare two variables, `x` and `y`, and assign them integer values\n",
    "x = 5\n",
    "y = 10\n",
    "\n",
    "# Swap the values of these variables\n",
    "x, y = y, x \n",
    "\n",
    "#Print Output\n",
    "print(\"x =\", x)\n",
    "print(\"y =\", y)"
   ]
  },
  {
   "cell_type": "code",
   "execution_count": 36,
   "id": "738f5f66-b53b-49ee-bfda-b37f5e2e4c5f",
   "metadata": {},
   "outputs": [
    {
     "name": "stdin",
     "output_type": "stream",
     "text": [
      "Enter the length of a Rectangle: 5\n",
      "Enter the width of a Rectangle: 6\n"
     ]
    },
    {
     "name": "stdout",
     "output_type": "stream",
     "text": [
      "Area of a Rectangle is : 30.0\n"
     ]
    }
   ],
   "source": [
    "# Question\n",
    "'''2. Create a program that calculates the area of a rectangle. Take the length and\n",
    "width as inputs from the user and store them in variables. Calculate and\n",
    "display the area.'''\n",
    "\n",
    "#Answer\n",
    "l = float(input('Enter the length of a Rectangle:'))\n",
    "w = float(input('Enter the width of a Rectangle:'))\n",
    "Area = l * w\n",
    "print(\"Area of a Rectangle is :\", Area)"
   ]
  },
  {
   "cell_type": "code",
   "execution_count": 39,
   "id": "7be4a691-417b-43db-8e36-23a2f5dc9d63",
   "metadata": {},
   "outputs": [
    {
     "name": "stdin",
     "output_type": "stream",
     "text": [
      "Enter the Temperature in Celsius : 90\n"
     ]
    },
    {
     "name": "stdout",
     "output_type": "stream",
     "text": [
      "Temperature in Fahrenheit : 194.0\n"
     ]
    }
   ],
   "source": [
    "# Question\n",
    "'''3. Write a Python program that converts temperatures from Celsius to\n",
    "Fahrenheit. Take the temperature in Celsius as input, store it in a variable,\n",
    "convert it to Fahrenheit, and display the result.'''\n",
    "\n",
    "#Answer\n",
    "celsius = float(input(\"Enter the Temperature in Celsius :\"))\n",
    "fahrenheit = (1.8 * celsius) + 32 #Formula for converting Celsius to Fahrenheit \n",
    "print(\"Temperature in Fahrenheit :\", fahrenheit)"
   ]
  },
  {
   "cell_type": "code",
   "execution_count": 40,
   "id": "874a7a93-8dd9-402f-9bb1-00e55dd50af0",
   "metadata": {},
   "outputs": [
    {
     "name": "stdin",
     "output_type": "stream",
     "text": [
      "Enter a string:  ABCDEF\n"
     ]
    },
    {
     "name": "stdout",
     "output_type": "stream",
     "text": [
      "Length of the input string is: 6\n"
     ]
    }
   ],
   "source": [
    "# TOPIC: String Based Questions\n",
    "# Question\n",
    "'''1. Write a Python program that takes a string as input and prints the length of\n",
    "the string.'''\n",
    "\n",
    "#Answer\n",
    "string = input(\"Enter a string: \")\n",
    "l=len(string) # len() function for calculating length.\n",
    "print(\"Length of the input string is:\", l)"
   ]
  },
  {
   "cell_type": "code",
   "execution_count": 41,
   "id": "d0728f99-edf9-4832-95a2-4c04ac1bf51d",
   "metadata": {},
   "outputs": [
    {
     "name": "stdin",
     "output_type": "stream",
     "text": [
      "Enter a string:  PYTHON Basic\n"
     ]
    },
    {
     "name": "stdout",
     "output_type": "stream",
     "text": [
      "The number of vowels in the string is: 3\n"
     ]
    }
   ],
   "source": [
    "# Question\n",
    "'''2. Create a program that takes a sentence from the user and counts the number\n",
    "of vowels (a, e, i, o, u) in the string.'''\n",
    "\n",
    "#Answer\n",
    "string = input(\"Enter a string: \")\n",
    "vowels = \"aeiouAEIOU\" # defining vowels\n",
    "count=0 # initailzing count for vowel as 0\n",
    "for letters in string: # checking vowels in string one by one \n",
    "    if letters in vowels:\n",
    "        count = count + 1 # cumualating the number of vowels\n",
    "print(\"The number of vowels in the string is:\", count)"
   ]
  },
  {
   "cell_type": "code",
   "execution_count": 42,
   "id": "174fdc09-4e84-42e0-ab36-bffa463776bf",
   "metadata": {},
   "outputs": [
    {
     "name": "stdin",
     "output_type": "stream",
     "text": [
      "Enter a string:  HELLO\n"
     ]
    },
    {
     "name": "stdout",
     "output_type": "stream",
     "text": [
      "The string in reverse order is: OLLEH\n"
     ]
    }
   ],
   "source": [
    "# Question\n",
    "'''3. Given a string, reverse the order of characters using string slicing and print\n",
    "the reversed string'''\n",
    "\n",
    "#Answer\n",
    "string = input(\"Enter a string: \")\n",
    "reverse = string[::-1]\n",
    "print(\"The string in reverse order is:\", reverse)"
   ]
  },
  {
   "cell_type": "code",
   "execution_count": 43,
   "id": "cbff3db4-e3e9-43e5-8405-1f0d9aa8402d",
   "metadata": {},
   "outputs": [
    {
     "name": "stdin",
     "output_type": "stream",
     "text": [
      "Enter a string:  MALAYALAM\n"
     ]
    },
    {
     "name": "stdout",
     "output_type": "stream",
     "text": [
      "It is palindrome\n"
     ]
    }
   ],
   "source": [
    "# Question\n",
    "'''4. Write a program that takes a string as input and checks if it is a palindrome\n",
    "(reads the same forwards and backwards).'''\n",
    "\n",
    "#Answer\n",
    "string = input(\"Enter a string: \")\n",
    "reverse = string[::-1]\n",
    "if (string == reverse): # checking for palindrome\n",
    "    print(\"It is palindrome\") # true case\n",
    "else:\n",
    "    print(\"It is not palindrome\")"
   ]
  },
  {
   "cell_type": "code",
   "execution_count": 44,
   "id": "f649d3a3-6dc7-45bc-8537-5714eb7bd320",
   "metadata": {},
   "outputs": [
    {
     "name": "stdin",
     "output_type": "stream",
     "text": [
      "Enter a string:  AB CD   EF\n"
     ]
    },
    {
     "name": "stdout",
     "output_type": "stream",
     "text": [
      "The string without space is: ABCDEF\n"
     ]
    }
   ],
   "source": [
    "# Question\n",
    "'''5. Create a program that takes a string as input and removes all the spaces from\n",
    "it. Print the modified string without spaces.'''\n",
    "\n",
    "#Answer\n",
    "string = input(\"Enter a string: \")\n",
    "nospaces = string.replace(\" \", \"\") # to remove all the spaces.\n",
    "print(\"The string without space is:\", nospaces)"
   ]
  },
  {
   "cell_type": "code",
   "execution_count": null,
   "id": "10759b5e-682f-4092-a76e-adca978e741f",
   "metadata": {},
   "outputs": [],
   "source": [
    "#End of Assignment"
   ]
  }
 ],
 "metadata": {
  "kernelspec": {
   "display_name": "Python 3 (ipykernel)",
   "language": "python",
   "name": "python3"
  },
  "language_info": {
   "codemirror_mode": {
    "name": "ipython",
    "version": 3
   },
   "file_extension": ".py",
   "mimetype": "text/x-python",
   "name": "python",
   "nbconvert_exporter": "python",
   "pygments_lexer": "ipython3",
   "version": "3.10.8"
  }
 },
 "nbformat": 4,
 "nbformat_minor": 5
}
